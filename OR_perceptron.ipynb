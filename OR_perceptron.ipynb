{
  "nbformat": 4,
  "nbformat_minor": 0,
  "metadata": {
    "colab": {
      "provenance": [],
      "authorship_tag": "ABX9TyPszmmIkihhYXqhEVmV5btv",
      "include_colab_link": true
    },
    "kernelspec": {
      "name": "python3",
      "display_name": "Python 3"
    },
    "language_info": {
      "name": "python"
    }
  },
  "cells": [
    {
      "cell_type": "markdown",
      "metadata": {
        "id": "view-in-github",
        "colab_type": "text"
      },
      "source": [
        "<a href=\"https://colab.research.google.com/github/geethas1984/tech/blob/master/OR_perceptron.ipynb\" target=\"_parent\"><img src=\"https://colab.research.google.com/assets/colab-badge.svg\" alt=\"Open In Colab\"/></a>"
      ]
    },
    {
      "cell_type": "code",
      "execution_count": 1,
      "metadata": {
        "colab": {
          "base_uri": "https://localhost:8080/"
        },
        "id": "34p4hTFE-l7K",
        "outputId": "b8fb590e-1e2a-406b-c402-946124fdc233"
      },
      "outputs": [
        {
          "output_type": "stream",
          "name": "stdout",
          "text": [
            "Perceptron Training : \n",
            "#####################\n",
            "-----------------\n",
            "Input : 0 , 0\n",
            "Weights : 0.0 , 0.3\n",
            "summation : 0.0 threshold : 0.4\n",
            "Actual Output : 0 Predicated Output : 0\n",
            "------------------\n",
            "Input : 0 , 1\n",
            "Weights : 0.0 , 0.3\n",
            "summation : 0.3 threshold : 0.4\n",
            "Actual Output : 1 Predicated Output : 0\n",
            "_______\n",
            "Updating Weights\n",
            "Updated Weights : 0.0 , 0.8\n",
            "\n",
            "Weights Updated Training Again : \n",
            "###################################\n",
            "------------------\n",
            "Input : 0 , 0\n",
            "Weights : 0.0 , 0.8\n",
            "summation : 0.0 threshold : 0.4\n",
            "Actual Output : 0 Predicated Output : 0\n",
            "------------------\n",
            "Input : 0 , 1\n",
            "Weights : 0.0 , 0.8\n",
            "summation : 0.8 threshold : 0.4\n",
            "Actual Output : 1 Predicated Output : 1\n",
            "------------------\n",
            "Input : 1 , 0\n",
            "Weights : 0.0 , 0.8\n",
            "summation : 0.0 threshold : 0.4\n",
            "Actual Output : 1 Predicated Output : 0\n",
            "_______\n",
            "Updating Weights\n",
            "Updated Weights : 0.5 , 0.8\n",
            "\n",
            "Weights Updated Training Again : \n",
            "###################################\n",
            "------------------\n",
            "Input : 0 , 0\n",
            "Weights : 0.5 , 0.8\n",
            "summation : 0.0 threshold : 0.4\n",
            "Actual Output : 0 Predicated Output : 0\n",
            "------------------\n",
            "Input : 0 , 1\n",
            "Weights : 0.5 , 0.8\n",
            "summation : 0.8 threshold : 0.4\n",
            "Actual Output : 1 Predicated Output : 1\n",
            "------------------\n",
            "Input : 1 , 0\n",
            "Weights : 0.5 , 0.8\n",
            "summation : 0.5 threshold : 0.4\n",
            "Actual Output : 1 Predicated Output : 1\n",
            "------------------\n",
            "Input : 1 , 1\n",
            "Weights : 0.5 , 0.8\n",
            "summation : 1.3 threshold : 0.4\n",
            "Actual Output : 1 Predicated Output : 1\n",
            "------------------\n",
            "OR GAte Output For [0, 0] : 0\n"
          ]
        }
      ],
      "source": [
        "# OR Gate Using Perceptron\n",
        "\n",
        "# a b y\n",
        "# 0 0 0\n",
        "# 0 1 1\n",
        "# 1 0 1\n",
        "# 1 1 1\n",
        "\n",
        "def activation(out,threshold):\n",
        "    if out > threshold:\n",
        "        return 1\n",
        "    else:\n",
        "        return 0\n",
        "\n",
        "def perceptron(and_input):\n",
        "    a = [0,0,1,1]\n",
        "    b = [0,1,0,1]\n",
        "    y = [0,1,1,1] # Actual Output\n",
        "    w = [0.0,0.3]\n",
        "    threshold = 0.4\n",
        "    learning_rate = 0.5\n",
        "    i=0\n",
        "    print(\"Perceptron Training : \")\n",
        "    print(\"#####################\")\n",
        "    print(\"-----------------\")\n",
        "    while i<4:\n",
        "        summation = a[i]*w[0] + b[i]*w[1]\n",
        "        o = activation(summation,threshold)\n",
        "        print(\"Input : \" + str(a[i]) +\" , \"+ str(b[i]))\n",
        "        print(\"Weights : \" + str(w[0]) +\" , \"+ str(w[1]))\n",
        "        print(\"summation : \"+str(summation) + \" threshold : \"+str(threshold) )\n",
        "        print(\"Actual Output : \"+str(y[i])+\" Predicated Output : \"+str(o))\n",
        "        if(o!=y[i]):\n",
        "            # w = w + learning_rate(actual_output - predicated_output)*input\n",
        "            print(\"_______\\nUpdating Weights\")\n",
        "            w[0]=w[0]+learning_rate*(y[i]-o)*a[i]\n",
        "            w[1]=w[1]+learning_rate*(y[i]-o)*b[i]\n",
        "            print(\"Updated Weights : \" + str(w[0]) +\" , \"+ str(w[1]))\n",
        "            i = -1\n",
        "            print(\"\\nWeights Updated Training Again : \")\n",
        "            print(\"###################################\")\n",
        "        i=i+1\n",
        "        print(\"------------------\")\n",
        "    # Prediction Part\n",
        "    summation = and_input[0]*w[0] + and_input[1]*w[1]\n",
        "    return activation(summation,threshold)\n",
        "\n",
        "\n",
        "or_input = [0,0]\n",
        "print(\"OR GAte Output For \"+str(or_input) + \" : \" + str(perceptron(or_input)))"
      ]
    }
  ]
}